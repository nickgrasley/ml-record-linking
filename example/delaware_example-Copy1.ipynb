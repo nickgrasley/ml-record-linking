{
 "cells": [
  {
   "cell_type": "markdown",
   "metadata": {},
   "source": [
    "# Running Splycer"
   ]
  },
  {
   "cell_type": "markdown",
   "metadata": {},
   "source": [
    "Here I demonstrate the process of running Splycer from start to finish. First, load in all of the necessary modules. In the future, `sys.path.append` will not be necessary since this will be a package built in your Python environment. Make sure you are also in the example folder, which you can change with the `os.chdir()` command listed below.\n",
    "\n",
    "For code clarity, I turned warnings off in this notebook. Don't do this in your future code because you can get valuable warnings sometimes, especially about invalid values during comparisons."
   ]
  },
  {
   "cell_type": "code",
   "execution_count": 1,
   "metadata": {},
   "outputs": [],
   "source": [
    "import sys\n",
    "import os\n",
    "import pickle as pkl\n",
    "import numpy as np\n",
    "import pandas as pd\n",
    "from xgboost import XGBClassifier\n",
    "\n",
    "sys.path.append(\"R:/JoePriceResearch/record_linking/projects/deep_learning/ml-record-linking/build/lib.win-amd64-3.7\")\n",
    "from record_set import RecordDataFrame\n",
    "from pairs_set import PairsCOO\n",
    "from feature_engineer import FeatureEngineer\n",
    "from xgboost_match import XGBoostMatch\n",
    "os.chdir(\"R:/JoePriceResearch/record_linking/projects/deep_learning/ml-record-linking/example\")\n",
    "\n",
    "import warnings\n",
    "warnings.simplefilter(\"ignore\")"
   ]
  },
  {
   "cell_type": "markdown",
   "metadata": {},
   "source": [
    "## Record Set Objects"
   ]
  },
  {
   "cell_type": "markdown",
   "metadata": {},
   "source": [
    "This next cell creates record set objects. A record set object is a container for record information that a linker algorithm can access with a unique identifier. In this tutorial, the record set object's internal structure is a [Pandas DataFrame](https://towardsdatascience.com/a-quick-introduction-to-the-pandas-python-library-f1b678f34673). One innovation of our code is that it does not matter what your data's internal structure is as long as you use/create a [wrapper](https://en.wikipedia.org/wiki/Wrapper_function) for it. This gives you the freedom to use the data format that is best for your linking project. I will have some documentation for how to do that, but I have created several common data structures to choose from.\n",
    "\n",
    "(Note: the feather file format I am reading here is a special binary format that Python, R, Julia, etc. can understand. It's extremely fast, so I use it here to avoid long wait times loading the data. However, I wouldn't recommend this format for your projects since other programs can't understand it and it has some limiting design choices.)"
   ]
  },
  {
   "cell_type": "code",
   "execution_count": 2,
   "metadata": {
    "scrolled": true
   },
   "outputs": [],
   "source": [
    "delaware_1910 = RecordDataFrame(2, pd.read_feather(\"delaware_1910.feather\", nthreads=4).set_index(\"index\", drop=True))\n",
    "delaware_1920 = RecordDataFrame(3, pd.read_feather(\"delaware_1920.feather\", nthreads=4).set_index(\"index\", drop=True))"
   ]
  },
  {
   "cell_type": "markdown",
   "metadata": {},
   "source": [
    "Here's what the data look like. You can see there's some missing values. If I was actually running predictions, I would fix these missing values, and I should fix the missing values in these files in the future."
   ]
  },
  {
   "cell_type": "code",
   "execution_count": 3,
   "metadata": {},
   "outputs": [
    {
     "data": {
      "text/html": [
       "<div>\n",
       "<style scoped>\n",
       "    .dataframe tbody tr th:only-of-type {\n",
       "        vertical-align: middle;\n",
       "    }\n",
       "\n",
       "    .dataframe tbody tr th {\n",
       "        vertical-align: top;\n",
       "    }\n",
       "\n",
       "    .dataframe thead th {\n",
       "        text-align: right;\n",
       "    }\n",
       "</style>\n",
       "<table border=\"1\" class=\"dataframe\">\n",
       "  <thead>\n",
       "    <tr style=\"text-align: right;\">\n",
       "      <th></th>\n",
       "      <th>marstat</th>\n",
       "      <th>birth_year</th>\n",
       "      <th>household</th>\n",
       "      <th>immigration</th>\n",
       "      <th>race</th>\n",
       "      <th>rel</th>\n",
       "      <th>female</th>\n",
       "      <th>bp</th>\n",
       "      <th>mbp</th>\n",
       "      <th>fbp</th>\n",
       "      <th>...</th>\n",
       "      <th>last_vec192</th>\n",
       "      <th>last_vec193</th>\n",
       "      <th>last_vec194</th>\n",
       "      <th>last_vec195</th>\n",
       "      <th>last_vec196</th>\n",
       "      <th>last_vec197</th>\n",
       "      <th>last_vec198</th>\n",
       "      <th>last_vec199</th>\n",
       "      <th>last_vec200</th>\n",
       "      <th>last_vec201</th>\n",
       "    </tr>\n",
       "    <tr>\n",
       "      <th>index</th>\n",
       "      <th></th>\n",
       "      <th></th>\n",
       "      <th></th>\n",
       "      <th></th>\n",
       "      <th></th>\n",
       "      <th></th>\n",
       "      <th></th>\n",
       "      <th></th>\n",
       "      <th></th>\n",
       "      <th></th>\n",
       "      <th></th>\n",
       "      <th></th>\n",
       "      <th></th>\n",
       "      <th></th>\n",
       "      <th></th>\n",
       "      <th></th>\n",
       "      <th></th>\n",
       "      <th></th>\n",
       "      <th></th>\n",
       "      <th></th>\n",
       "      <th></th>\n",
       "    </tr>\n",
       "  </thead>\n",
       "  <tbody>\n",
       "    <tr>\n",
       "      <th>8361303</th>\n",
       "      <td>1.0</td>\n",
       "      <td>1874.0</td>\n",
       "      <td>1934610.0</td>\n",
       "      <td>NaN</td>\n",
       "      <td>0</td>\n",
       "      <td>1</td>\n",
       "      <td>1</td>\n",
       "      <td>65</td>\n",
       "      <td>46</td>\n",
       "      <td>36</td>\n",
       "      <td>...</td>\n",
       "      <td>NaN</td>\n",
       "      <td>NaN</td>\n",
       "      <td>NaN</td>\n",
       "      <td>NaN</td>\n",
       "      <td>NaN</td>\n",
       "      <td>NaN</td>\n",
       "      <td>NaN</td>\n",
       "      <td>NaN</td>\n",
       "      <td>NaN</td>\n",
       "      <td>NaN</td>\n",
       "    </tr>\n",
       "    <tr>\n",
       "      <th>8437960</th>\n",
       "      <td>0.0</td>\n",
       "      <td>1874.0</td>\n",
       "      <td>1955405.0</td>\n",
       "      <td>NaN</td>\n",
       "      <td>0</td>\n",
       "      <td>-1</td>\n",
       "      <td>1</td>\n",
       "      <td>55</td>\n",
       "      <td>12</td>\n",
       "      <td>55</td>\n",
       "      <td>...</td>\n",
       "      <td>NaN</td>\n",
       "      <td>NaN</td>\n",
       "      <td>NaN</td>\n",
       "      <td>NaN</td>\n",
       "      <td>NaN</td>\n",
       "      <td>NaN</td>\n",
       "      <td>NaN</td>\n",
       "      <td>NaN</td>\n",
       "      <td>NaN</td>\n",
       "      <td>NaN</td>\n",
       "    </tr>\n",
       "    <tr>\n",
       "      <th>8387550</th>\n",
       "      <td>0.0</td>\n",
       "      <td>1905.0</td>\n",
       "      <td>1975755.0</td>\n",
       "      <td>NaN</td>\n",
       "      <td>0</td>\n",
       "      <td>3</td>\n",
       "      <td>1</td>\n",
       "      <td>18</td>\n",
       "      <td>18</td>\n",
       "      <td>18</td>\n",
       "      <td>...</td>\n",
       "      <td>NaN</td>\n",
       "      <td>NaN</td>\n",
       "      <td>NaN</td>\n",
       "      <td>NaN</td>\n",
       "      <td>NaN</td>\n",
       "      <td>NaN</td>\n",
       "      <td>NaN</td>\n",
       "      <td>NaN</td>\n",
       "      <td>NaN</td>\n",
       "      <td>NaN</td>\n",
       "    </tr>\n",
       "    <tr>\n",
       "      <th>8529805</th>\n",
       "      <td>0.0</td>\n",
       "      <td>1880.0</td>\n",
       "      <td>1954502.0</td>\n",
       "      <td>1880.0</td>\n",
       "      <td>0</td>\n",
       "      <td>-1</td>\n",
       "      <td>1</td>\n",
       "      <td>10</td>\n",
       "      <td>10</td>\n",
       "      <td>10</td>\n",
       "      <td>...</td>\n",
       "      <td>NaN</td>\n",
       "      <td>NaN</td>\n",
       "      <td>NaN</td>\n",
       "      <td>NaN</td>\n",
       "      <td>NaN</td>\n",
       "      <td>NaN</td>\n",
       "      <td>NaN</td>\n",
       "      <td>NaN</td>\n",
       "      <td>NaN</td>\n",
       "      <td>NaN</td>\n",
       "    </tr>\n",
       "    <tr>\n",
       "      <th>8529824</th>\n",
       "      <td>0.0</td>\n",
       "      <td>1878.0</td>\n",
       "      <td>1954502.0</td>\n",
       "      <td>NaN</td>\n",
       "      <td>0</td>\n",
       "      <td>-1</td>\n",
       "      <td>1</td>\n",
       "      <td>55</td>\n",
       "      <td>55</td>\n",
       "      <td>55</td>\n",
       "      <td>...</td>\n",
       "      <td>NaN</td>\n",
       "      <td>NaN</td>\n",
       "      <td>NaN</td>\n",
       "      <td>NaN</td>\n",
       "      <td>NaN</td>\n",
       "      <td>NaN</td>\n",
       "      <td>NaN</td>\n",
       "      <td>NaN</td>\n",
       "      <td>NaN</td>\n",
       "      <td>NaN</td>\n",
       "    </tr>\n",
       "  </tbody>\n",
       "</table>\n",
       "<p>5 rows × 430 columns</p>\n",
       "</div>"
      ],
      "text/plain": [
       "         marstat  birth_year  household  immigration  race  rel  female  bp  \\\n",
       "index                                                                         \n",
       "8361303      1.0      1874.0  1934610.0          NaN     0    1       1  65   \n",
       "8437960      0.0      1874.0  1955405.0          NaN     0   -1       1  55   \n",
       "8387550      0.0      1905.0  1975755.0          NaN     0    3       1  18   \n",
       "8529805      0.0      1880.0  1954502.0       1880.0     0   -1       1  10   \n",
       "8529824      0.0      1878.0  1954502.0          NaN     0   -1       1  55   \n",
       "\n",
       "         mbp  fbp  ...  last_vec192  last_vec193  last_vec194  last_vec195  \\\n",
       "index              ...                                                       \n",
       "8361303   46   36  ...          NaN          NaN          NaN          NaN   \n",
       "8437960   12   55  ...          NaN          NaN          NaN          NaN   \n",
       "8387550   18   18  ...          NaN          NaN          NaN          NaN   \n",
       "8529805   10   10  ...          NaN          NaN          NaN          NaN   \n",
       "8529824   55   55  ...          NaN          NaN          NaN          NaN   \n",
       "\n",
       "         last_vec196  last_vec197  last_vec198  last_vec199  last_vec200  \\\n",
       "index                                                                      \n",
       "8361303          NaN          NaN          NaN          NaN          NaN   \n",
       "8437960          NaN          NaN          NaN          NaN          NaN   \n",
       "8387550          NaN          NaN          NaN          NaN          NaN   \n",
       "8529805          NaN          NaN          NaN          NaN          NaN   \n",
       "8529824          NaN          NaN          NaN          NaN          NaN   \n",
       "\n",
       "         last_vec201  \n",
       "index                 \n",
       "8361303          NaN  \n",
       "8437960          NaN  \n",
       "8387550          NaN  \n",
       "8529805          NaN  \n",
       "8529824          NaN  \n",
       "\n",
       "[5 rows x 430 columns]"
      ]
     },
     "execution_count": 3,
     "metadata": {},
     "output_type": "execute_result"
    }
   ],
   "source": [
    "delaware_1910.df.head()"
   ]
  },
  {
   "cell_type": "markdown",
   "metadata": {},
   "source": [
    "## Pairs Set Objects"
   ]
  },
  {
   "cell_type": "markdown",
   "metadata": {},
   "source": [
    "Next, we create the pairs set. This object contains pairs of record ids that we want to predict whether they are a match, indexed by the unique identifier in the record set objects. Once again, internal data structure doesn't matter as long as you use/create a wrapper for your specific data structure. Here, I am using a [coordinate sparse matrix](https://en.wikipedia.org/wiki/Sparse_matrix#Coordinate_list_(COO))."
   ]
  },
  {
   "cell_type": "code",
   "execution_count": 4,
   "metadata": {},
   "outputs": [],
   "source": [
    "compares = pd.read_csv(\"delaware_compares.csv\")\n",
    "compares = PairsCOO(2,3, compares.index_1910.values, compares.index_1920.values, np.ones(compares.shape[0]))"
   ]
  },
  {
   "cell_type": "markdown",
   "metadata": {},
   "source": [
    "## Comparing Records with Feature Engineer"
   ]
  },
  {
   "cell_type": "markdown",
   "metadata": {},
   "source": [
    "Constructing the comparison engineer is the most intensive part of the pipeline. It is constructed by incrementally adding functions that measure record similarity. For each comparison, you must specify the column name(s) of the record you want to compare; the type of comparison; and any extra arguments that the comparison takes. On theme, you can use any similarity score you want as long as you create a wrapper for it."
   ]
  },
  {
   "cell_type": "markdown",
   "metadata": {},
   "source": [
    "#### Example"
   ]
  },
  {
   "cell_type": "markdown",
   "metadata": {},
   "source": [
    "Suppose I wanted to compare first name using jaro-winkler score. After creating a ComparisonEngineer object `comparison_engine`, the code to do this is `comparison_engine.add_comparison(\"first_name\", \"jw\")`. If I wanted to also use a commonality weight, I would use `comparison_engine.add_comparison(\"first_name\", \"jw\", {\"comm_weight\": 'd', \"comm_col\": \"first_comm\"})`."
   ]
  },
  {
   "cell_type": "markdown",
   "metadata": {},
   "source": [
    "Below, you can see that I generate the comparison pipeline by creating lists of columns, comparisons, and extra arguments. This is the most efficient way of coding up the comparison pipeline."
   ]
  },
  {
   "cell_type": "code",
   "execution_count": 5,
   "metadata": {},
   "outputs": [],
   "source": [
    "#Construct the feature engineer\n",
    "fe = FeatureEngineer()\n",
    "cols = [\"marstat\", \"race\", \"rel\", \"mbp\", \"fbp\", \"first_sdxn\", \"last_sdxn\", \"bp\", \"county\",\n",
    "        \"immigration\", \"birth_year\", [\"res_lat\", \"res_lon\"], [\"bp_lat\", \"bp_lon\"],\n",
    "        [f\"first_vec{i}\" for i in range(2, 202)], [f\"last_vec{i}\" for i in range(2,202)],\n",
    "        \"first\", \"last\",\n",
    "        \"first\", \"last\"\n",
    "       ]\n",
    "\n",
    "#similarity functions\n",
    "col_comps = [\"exact match\"] * 9\n",
    "col_comps.extend([\"abs dist\"] * 2)\n",
    "col_comps.extend([\"euclidean dist\"] * 4)\n",
    "#col_comps.extend([\"geo dist\"] * 2)\n",
    "col_comps.extend([\"jw\"] * 2)\n",
    "col_comps.extend([\"trigram\"] * 2)\n",
    "\n",
    "#extra arguments\n",
    "col_args = list({} for i in range(5))\n",
    "col_args.extend([{\"comm_weight\": \"d\", \"comm_col\": \"first_comm\"}, {\"comm_weight\": \"d\", \"comm_col\": \"last_comm\"},\n",
    "                 {\"comm_weight\": \"d\", \"comm_col\": \"bp_comm\"}])\n",
    "col_args.extend(list({} for i in range(7)))\n",
    "col_args.extend([{\"comm_weight\": \"d\", \"comm_col\": \"first_comm\"}, {\"comm_weight\": \"d\", \"comm_col\": \"last_comm\"}] * 2)\n",
    "assert len(cols) == len(col_comps) == len(col_args)"
   ]
  },
  {
   "cell_type": "markdown",
   "metadata": {},
   "source": [
    "I then loop over the lists I created and add the comparisons to my comparison engine."
   ]
  },
  {
   "cell_type": "code",
   "execution_count": 6,
   "metadata": {},
   "outputs": [],
   "source": [
    "for i,j,k in zip(cols, col_comps, col_args):\n",
    "    fe.add_comparison(i, j, k)"
   ]
  },
  {
   "cell_type": "markdown",
   "metadata": {},
   "source": [
    "Here's a look at all of the available similarity functions I've coded up so far:"
   ]
  },
  {
   "cell_type": "code",
   "execution_count": 7,
   "metadata": {},
   "outputs": [
    {
     "data": {
      "text/plain": [
       "['jw',\n",
       " 'abs dist',\n",
       " 'euclidean dist',\n",
       " 'geo dist',\n",
       " 'bigram',\n",
       " 'trigram',\n",
       " 'ngram',\n",
       " 'exact match']"
      ]
     },
     "execution_count": 7,
     "metadata": {},
     "output_type": "execute_result"
    }
   ],
   "source": [
    "list(fe.compares_avail.keys())"
   ]
  },
  {
   "cell_type": "markdown",
   "metadata": {},
   "source": [
    "## Linking Model"
   ]
  },
  {
   "cell_type": "markdown",
   "metadata": {},
   "source": [
    "Here I load in a model. For now, this is an old model that will give you junk predictions for our current data since I didn't bother cleaning the delaware data. Hopefully this will be improved so that you can see the actual predictions that the model is making."
   ]
  },
  {
   "cell_type": "code",
   "execution_count": 8,
   "metadata": {},
   "outputs": [],
   "source": [
    "#Construct XGBoostMatch\n",
    "with open(\"R:/JoePriceResearch/record_linking/projects/deep_learning/ml-record-linking/model.xgboost\", \"rb\") as file:\n",
    "    model = pkl.load(file)\n",
    "model.get_booster().feature_names = [f\"f{i}\" for i in range(19)]"
   ]
  },
  {
   "cell_type": "markdown",
   "metadata": {},
   "source": [
    "This final step is to create and run a linker object. A linker object takes all of the previous parts and uses the similarity scores generated to either predict whether a record pair is a match or return a probability of a record pair being a match. Once again, the code is agnostic to which linking algorithm you use as long as the linking algorithm knows how to work with each of the objects created above.\n",
    "\n",
    "For this notebook, I use [XGBoost](https://machinelearningmastery.com/gentle-introduction-xgboost-applied-machine-learning/), a powerful adaptation of random forests. The last step is to use `run()` and specify the name of the file that you want your predictions saved to."
   ]
  },
  {
   "cell_type": "code",
   "execution_count": 9,
   "metadata": {
    "scrolled": true
   },
   "outputs": [
    {
     "name": "stderr",
     "output_type": "stream",
     "text": [
      "Predicting links...: : 700000it [01:11, 11586.79it/s]                                                                  \n"
     ]
    },
    {
     "name": "stdout",
     "output_type": "stream",
     "text": [
      "Linking completed\n"
     ]
    }
   ],
   "source": [
    "xgb = XGBoostMatch(delaware_1910, delaware_1920, compares, fe, model)\n",
    "xgb.run(\"test.csv\")"
   ]
  },
  {
   "cell_type": "markdown",
   "metadata": {},
   "source": [
    "Currently, we can run 22 million predictions per hour on a single machine, not including blocking and reading in data. 2/3 of the time is spent on the ngram comparison, so dropping that will lead to 66 million predictions per hour. You can test with your own data how much dropping ngram similarity impacts your precision and recall, but it probably won't be that big of a factor since there are many other name comparison metrics that you can use. (If you really need it, you can try optimizing my code for ngrams, which just calls a canned python module. Then submit a pull request to my github repo.)"
   ]
  },
  {
   "cell_type": "markdown",
   "metadata": {},
   "source": [
    "## Conclusion"
   ]
  },
  {
   "cell_type": "markdown",
   "metadata": {},
   "source": [
    "And that's the pipeline! The only step not shown is the blocking algorithm. We used SQL to block extremely quickly, but you can do it however you want. Maybe in the future we'll have a dedicated class for blocking, but that is not a priority. Use SQL if you have a very large dataset, or use Stata/Pandas for smaller datasets (merges in Stata are better than Pandas)."
   ]
  },
  {
   "cell_type": "code",
   "execution_count": 22,
   "metadata": {},
   "outputs": [
    {
     "name": "stderr",
     "output_type": "stream",
     "text": [
      "\n",
      "Error compiling Cython file:\n",
      "------------------------------------------------------------\n",
      "...\n",
      "        return create_ngram_cython(sequence, self.n)\n",
      "\n",
      "    def compare(self, rec1, rec2):\n",
      "        return self.jaccard_similarity(self.create_ngram(rec1[self.col]), self.create_ngram(rec2[self.col]))\n",
      "cpdef main():\n",
      "    test = create_ngram_cython('test', 2)\n",
      "   ^\n",
      "------------------------------------------------------------\n",
      "\n",
      "C:\\Users\\ngrasley.BYU\\.ipython\\cython\\_cython_magic_179b56c07f436cec0b27a6be7fbbf8c3.pyx:44:4: Compiler crash in AnalyseExpressionsTransform\n",
      "\n",
      "ModuleNode.body = StatListNode(_cython_magic_179b56c07f436cec0b27a6be7fbbf8c3.pyx:1:0)\n",
      "StatListNode.stats[5] = StatListNode(_cython_magic_179b56c07f436cec0b27a6be7fbbf8c3.pyx:43:6)\n",
      "StatListNode.stats[0] = CFuncDefNode(_cython_magic_179b56c07f436cec0b27a6be7fbbf8c3.pyx:43:6,\n",
      "    args = [...]/0,\n",
      "    modifiers = [...]/0,\n",
      "    overridable = 1,\n",
      "    visibility = 'private')\n",
      "File 'Nodes.py', line 436, in analyse_expressions: StatListNode(_cython_magic_179b56c07f436cec0b27a6be7fbbf8c3.pyx:44:4)\n",
      "File 'Nodes.py', line 5159, in analyse_expressions: SingleAssignmentNode(_cython_magic_179b56c07f436cec0b27a6be7fbbf8c3.pyx:44:30)\n",
      "File 'Nodes.py', line 5285, in analyse_types: SingleAssignmentNode(_cython_magic_179b56c07f436cec0b27a6be7fbbf8c3.pyx:44:30)\n",
      "File 'ExprNodes.py', line 2038, in analyse_target_types: NameNode(_cython_magic_179b56c07f436cec0b27a6be7fbbf8c3.pyx:44:4,\n",
      "    cf_is_null = True,\n",
      "    cf_maybe_null = True,\n",
      "    cf_state = [...]/0,\n",
      "    is_name = True,\n",
      "    name = 'test',\n",
      "    result_is_used = True,\n",
      "    use_managed_ref = True)\n",
      "\n",
      "Compiler crash traceback from this point on:\n",
      "  File \"R:\\JoePriceResearch\\Python\\AnacondaNew\\envs\\ml_rec_env\\lib\\site-packages\\Cython\\Compiler\\ExprNodes.py\", line 2038, in analyse_target_types\n",
      "    Buffer.used_buffer_aux_vars(entry)\n",
      "  File \"R:\\JoePriceResearch\\Python\\AnacondaNew\\envs\\ml_rec_env\\lib\\site-packages\\Cython\\Compiler\\Buffer.py\", line 285, in used_buffer_aux_vars\n",
      "    buffer_aux.buflocal_nd_var.used = True\n",
      "AttributeError: 'NoneType' object has no attribute 'buflocal_nd_var'\n"
     ]
    },
    {
     "ename": "TypeError",
     "evalue": "object of type 'NoneType' has no len()",
     "output_type": "error",
     "traceback": [
      "\u001b[1;31m---------------------------------------------------------------------------\u001b[0m",
      "\u001b[1;31mTypeError\u001b[0m                                 Traceback (most recent call last)",
      "\u001b[1;32m<ipython-input-22-59a6b6958480>\u001b[0m in \u001b[0;36m<module>\u001b[1;34m\u001b[0m\n\u001b[1;32m----> 1\u001b[1;33m \u001b[0mget_ipython\u001b[0m\u001b[1;33m(\u001b[0m\u001b[1;33m)\u001b[0m\u001b[1;33m.\u001b[0m\u001b[0mrun_cell_magic\u001b[0m\u001b[1;33m(\u001b[0m\u001b[1;34m'cython'\u001b[0m\u001b[1;33m,\u001b[0m \u001b[1;34m''\u001b[0m\u001b[1;33m,\u001b[0m \u001b[1;34m'import numpy as np\\ncimport numpy as np\\n\\ncpdef set[tuple] create_ngram_cython(str sequence, int n):\\n    cdef list seq_list = list(sequence)\\n    cdef int count = max(0, len(sequence) - n + 1)\\n    return {tuple(sequence[i:i+n]) for i in range(count)}\\n\\ncpdef float jaccard_sim_cython(set[tuple] x, set[tuple] y):\\n    return len(x.intersection(y)) / len(x.union(y))\\n\\nclass NGram():\\n    def __init__(self, col=\"first_name\", comm_weight=None, comm_col=None, n=3):\\n        self.col\\n        self.n = n\\n        self.create_ngram = np.vectorize(self.create_ngram)\\n        self.jaccard_similarity = np.vectorize(self.jaccard_similarity)\\n\\n    def jaccard_similarity(self, x, y):\\n        \"\"\"\\n        intersection_cardinality = len(x.intersection(y))\\n        union_cardinality = len(x.union(y))\\n        return intersection_cardinality / float(union_cardinality)\\n        \"\"\"\\n        return jaccard_sim_cython(x, y)\\n\\n    def create_ngram(self, sequence): #, pad_left=False, pad_right=False, pad_symbol=None):\\n        \"\"\"\\n        if pad_left:\\n            sequence = chain((pad_symbol,) * (self.n-1), sequence)\\n        if pad_right:\\n            sequence = chain(sequence, (pad_symbol,) * (self.n-1))\\n        \"\"\"\\n        \"\"\"\\n        sequence = list(sequence)\\n        count = max(0, len(sequence) - self.n + 1)\\n        return {tuple(sequence[i:i+self.n]) for i in range(count)}\\n        \"\"\"\\n        return create_ngram_cython(sequence, self.n)\\n\\n    def compare(self, rec1, rec2):\\n        return self.jaccard_similarity(self.create_ngram(rec1[self.col]), self.create_ngram(rec2[self.col]))\\ncpdef main():\\n    test = create_ngram_cython(\\'test\\', 2)\\n    test2 = create_ngram_cython(\\'tsting\\', 2)\\n    comp = jaccard_sim_cython(test, test2)\\n    print(comp)\\nmain()\\n'\u001b[0m\u001b[1;33m)\u001b[0m\u001b[1;33m\u001b[0m\u001b[1;33m\u001b[0m\u001b[0m\n\u001b[0m",
      "\u001b[1;32mR:\\JoePriceResearch\\Python\\AnacondaNew\\envs\\ml_rec_env\\lib\\site-packages\\IPython\\core\\interactiveshell.py\u001b[0m in \u001b[0;36mrun_cell_magic\u001b[1;34m(self, magic_name, line, cell)\u001b[0m\n\u001b[0;32m   2345\u001b[0m                 \u001b[0mmagic_arg_s\u001b[0m \u001b[1;33m=\u001b[0m \u001b[0mself\u001b[0m\u001b[1;33m.\u001b[0m\u001b[0mvar_expand\u001b[0m\u001b[1;33m(\u001b[0m\u001b[0mline\u001b[0m\u001b[1;33m,\u001b[0m \u001b[0mstack_depth\u001b[0m\u001b[1;33m)\u001b[0m\u001b[1;33m\u001b[0m\u001b[1;33m\u001b[0m\u001b[0m\n\u001b[0;32m   2346\u001b[0m             \u001b[1;32mwith\u001b[0m \u001b[0mself\u001b[0m\u001b[1;33m.\u001b[0m\u001b[0mbuiltin_trap\u001b[0m\u001b[1;33m:\u001b[0m\u001b[1;33m\u001b[0m\u001b[1;33m\u001b[0m\u001b[0m\n\u001b[1;32m-> 2347\u001b[1;33m                 \u001b[0mresult\u001b[0m \u001b[1;33m=\u001b[0m \u001b[0mfn\u001b[0m\u001b[1;33m(\u001b[0m\u001b[0mmagic_arg_s\u001b[0m\u001b[1;33m,\u001b[0m \u001b[0mcell\u001b[0m\u001b[1;33m)\u001b[0m\u001b[1;33m\u001b[0m\u001b[1;33m\u001b[0m\u001b[0m\n\u001b[0m\u001b[0;32m   2348\u001b[0m             \u001b[1;32mreturn\u001b[0m \u001b[0mresult\u001b[0m\u001b[1;33m\u001b[0m\u001b[1;33m\u001b[0m\u001b[0m\n\u001b[0;32m   2349\u001b[0m \u001b[1;33m\u001b[0m\u001b[0m\n",
      "\u001b[1;32m<R:\\JoePriceResearch\\Python\\AnacondaNew\\envs\\ml_rec_env\\lib\\site-packages\\decorator.py:decorator-gen-129>\u001b[0m in \u001b[0;36mcython\u001b[1;34m(self, line, cell)\u001b[0m\n",
      "\u001b[1;32mR:\\JoePriceResearch\\Python\\AnacondaNew\\envs\\ml_rec_env\\lib\\site-packages\\IPython\\core\\magic.py\u001b[0m in \u001b[0;36m<lambda>\u001b[1;34m(f, *a, **k)\u001b[0m\n\u001b[0;32m    185\u001b[0m     \u001b[1;31m# but it's overkill for just that one bit of state.\u001b[0m\u001b[1;33m\u001b[0m\u001b[1;33m\u001b[0m\u001b[1;33m\u001b[0m\u001b[0m\n\u001b[0;32m    186\u001b[0m     \u001b[1;32mdef\u001b[0m \u001b[0mmagic_deco\u001b[0m\u001b[1;33m(\u001b[0m\u001b[0marg\u001b[0m\u001b[1;33m)\u001b[0m\u001b[1;33m:\u001b[0m\u001b[1;33m\u001b[0m\u001b[1;33m\u001b[0m\u001b[0m\n\u001b[1;32m--> 187\u001b[1;33m         \u001b[0mcall\u001b[0m \u001b[1;33m=\u001b[0m \u001b[1;32mlambda\u001b[0m \u001b[0mf\u001b[0m\u001b[1;33m,\u001b[0m \u001b[1;33m*\u001b[0m\u001b[0ma\u001b[0m\u001b[1;33m,\u001b[0m \u001b[1;33m**\u001b[0m\u001b[0mk\u001b[0m\u001b[1;33m:\u001b[0m \u001b[0mf\u001b[0m\u001b[1;33m(\u001b[0m\u001b[1;33m*\u001b[0m\u001b[0ma\u001b[0m\u001b[1;33m,\u001b[0m \u001b[1;33m**\u001b[0m\u001b[0mk\u001b[0m\u001b[1;33m)\u001b[0m\u001b[1;33m\u001b[0m\u001b[1;33m\u001b[0m\u001b[0m\n\u001b[0m\u001b[0;32m    188\u001b[0m \u001b[1;33m\u001b[0m\u001b[0m\n\u001b[0;32m    189\u001b[0m         \u001b[1;32mif\u001b[0m \u001b[0mcallable\u001b[0m\u001b[1;33m(\u001b[0m\u001b[0marg\u001b[0m\u001b[1;33m)\u001b[0m\u001b[1;33m:\u001b[0m\u001b[1;33m\u001b[0m\u001b[1;33m\u001b[0m\u001b[0m\n",
      "\u001b[1;32mR:\\JoePriceResearch\\Python\\AnacondaNew\\envs\\ml_rec_env\\lib\\site-packages\\Cython\\Build\\IpythonMagic.py\u001b[0m in \u001b[0;36mcython\u001b[1;34m(self, line, cell)\u001b[0m\n\u001b[0;32m    323\u001b[0m         \u001b[1;32mif\u001b[0m \u001b[0mneed_cythonize\u001b[0m\u001b[1;33m:\u001b[0m\u001b[1;33m\u001b[0m\u001b[1;33m\u001b[0m\u001b[0m\n\u001b[0;32m    324\u001b[0m             \u001b[0mextensions\u001b[0m \u001b[1;33m=\u001b[0m \u001b[0mself\u001b[0m\u001b[1;33m.\u001b[0m\u001b[0m_cythonize\u001b[0m\u001b[1;33m(\u001b[0m\u001b[0mmodule_name\u001b[0m\u001b[1;33m,\u001b[0m \u001b[0mcode\u001b[0m\u001b[1;33m,\u001b[0m \u001b[0mlib_dir\u001b[0m\u001b[1;33m,\u001b[0m \u001b[0margs\u001b[0m\u001b[1;33m,\u001b[0m \u001b[0mquiet\u001b[0m\u001b[1;33m=\u001b[0m\u001b[0margs\u001b[0m\u001b[1;33m.\u001b[0m\u001b[0mquiet\u001b[0m\u001b[1;33m)\u001b[0m\u001b[1;33m\u001b[0m\u001b[1;33m\u001b[0m\u001b[0m\n\u001b[1;32m--> 325\u001b[1;33m             \u001b[1;32massert\u001b[0m \u001b[0mlen\u001b[0m\u001b[1;33m(\u001b[0m\u001b[0mextensions\u001b[0m\u001b[1;33m)\u001b[0m \u001b[1;33m==\u001b[0m \u001b[1;36m1\u001b[0m\u001b[1;33m\u001b[0m\u001b[1;33m\u001b[0m\u001b[0m\n\u001b[0m\u001b[0;32m    326\u001b[0m             \u001b[0mextension\u001b[0m \u001b[1;33m=\u001b[0m \u001b[0mextensions\u001b[0m\u001b[1;33m[\u001b[0m\u001b[1;36m0\u001b[0m\u001b[1;33m]\u001b[0m\u001b[1;33m\u001b[0m\u001b[1;33m\u001b[0m\u001b[0m\n\u001b[0;32m    327\u001b[0m             \u001b[0mself\u001b[0m\u001b[1;33m.\u001b[0m\u001b[0m_code_cache\u001b[0m\u001b[1;33m[\u001b[0m\u001b[0mkey\u001b[0m\u001b[1;33m]\u001b[0m \u001b[1;33m=\u001b[0m \u001b[0mmodule_name\u001b[0m\u001b[1;33m\u001b[0m\u001b[1;33m\u001b[0m\u001b[0m\n",
      "\u001b[1;31mTypeError\u001b[0m: object of type 'NoneType' has no len()"
     ]
    }
   ],
   "source": [
    "%%cython\n",
    "import numpy as np\n",
    "cimport numpy as np\n",
    "\n",
    "cpdef set[tuple] create_ngram_cython(str sequence, int n):\n",
    "    cdef list seq_list = list(sequence)\n",
    "    cdef int count = max(0, len(sequence) - n + 1)\n",
    "    return {tuple(sequence[i:i+n]) for i in range(count)}\n",
    "\n",
    "cpdef float jaccard_sim_cython(set[tuple] x, set[tuple] y):\n",
    "    return len(x.intersection(y)) / len(x.union(y))\n",
    "\n",
    "class NGram():\n",
    "    def __init__(self, col=\"first_name\", comm_weight=None, comm_col=None, n=3):\n",
    "        self.col\n",
    "        self.n = n\n",
    "        self.create_ngram = np.vectorize(self.create_ngram)\n",
    "        self.jaccard_similarity = np.vectorize(self.jaccard_similarity)\n",
    "\n",
    "    def jaccard_similarity(self, x, y):\n",
    "        \"\"\"\n",
    "        intersection_cardinality = len(x.intersection(y))\n",
    "        union_cardinality = len(x.union(y))\n",
    "        return intersection_cardinality / float(union_cardinality)\n",
    "        \"\"\"\n",
    "        return jaccard_sim_cython(x, y)\n",
    "\n",
    "    def create_ngram(self, sequence): #, pad_left=False, pad_right=False, pad_symbol=None):\n",
    "        \"\"\"\n",
    "        if pad_left:\n",
    "            sequence = chain((pad_symbol,) * (self.n-1), sequence)\n",
    "        if pad_right:\n",
    "            sequence = chain(sequence, (pad_symbol,) * (self.n-1))\n",
    "        \"\"\"\n",
    "        \"\"\"\n",
    "        sequence = list(sequence)\n",
    "        count = max(0, len(sequence) - self.n + 1)\n",
    "        return {tuple(sequence[i:i+self.n]) for i in range(count)}\n",
    "        \"\"\"\n",
    "        return create_ngram_cython(sequence, self.n)\n",
    "\n",
    "    def compare(self, rec1, rec2):\n",
    "        return self.jaccard_similarity(self.create_ngram(rec1[self.col]), self.create_ngram(rec2[self.col]))\n",
    "cpdef main():\n",
    "    test = create_ngram_cython('test', 2)\n",
    "    test2 = create_ngram_cython('tsting', 2)\n",
    "    comp = jaccard_sim_cython(test, test2)\n",
    "    print(comp)\n",
    "main()"
   ]
  },
  {
   "cell_type": "code",
   "execution_count": null,
   "metadata": {},
   "outputs": [],
   "source": []
  }
 ],
 "metadata": {
  "kernelspec": {
   "display_name": "Python 3",
   "language": "python",
   "name": "python3"
  },
  "language_info": {
   "codemirror_mode": {
    "name": "ipython",
    "version": 3
   },
   "file_extension": ".py",
   "mimetype": "text/x-python",
   "name": "python",
   "nbconvert_exporter": "python",
   "pygments_lexer": "ipython3",
   "version": "3.7.2"
  }
 },
 "nbformat": 4,
 "nbformat_minor": 2
}
