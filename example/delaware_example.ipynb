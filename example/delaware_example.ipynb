{
 "cells": [
  {
   "cell_type": "code",
   "execution_count": 12,
   "metadata": {},
   "outputs": [],
   "source": [
    "import sys\n",
    "import os\n",
    "import pickle as pkl\n",
    "import numpy as np\n",
    "import pandas as pd\n",
    "from xgboost import XGBClassifier\n",
    "\n",
    "sys.path.append(\"R:/JoePriceResearch/record_linking/projects/deep_learning/ml-record-linking/Splycer\")\n",
    "from record_set import RecordDataFrame\n",
    "from pairs_set import PairsCSR\n",
    "from feature_engineer import FeatureEngineer\n",
    "from xgboost_match import XGBoostMatch\n",
    "os.chdir(\"R:/JoePriceResearch/record_linking/projects/deep_learning/ml-record-linking/example\")"
   ]
  },
  {
   "cell_type": "code",
   "execution_count": 13,
   "metadata": {},
   "outputs": [],
   "source": [
    "#Load in the census data.\n",
    "delaware_1910 = RecordDataFrame(2, pd.read_csv(\"delaware_1910.csv\", index_col=\"index\"))\n",
    "delaware_1920 = RecordDataFrame(3, pd.read_csv(\"delaware_1920.csv\", index_col=\"index\"))"
   ]
  },
  {
   "cell_type": "code",
   "execution_count": 14,
   "metadata": {},
   "outputs": [],
   "source": [
    "#Load in the compares set\n",
    "compares = pd.read_csv(\"delaware_compares.csv\")\n",
    "compares = PairsCSR([1,2], compares.index_1910.values, compares.index_1920.values, np.ones(compares.shape[0]))"
   ]
  },
  {
   "cell_type": "code",
   "execution_count": 7,
   "metadata": {},
   "outputs": [],
   "source": [
    "#Construct the feature engineer\n",
    "years = [1,2]\n",
    "feature_engineer = FeatureEngineer()\n",
    "features = [\"imputer\", \"bool match\", \"euclidean distance\", \"jaro-winkler\", \n",
    "            \"ngram\", \"drop\", \"commonality weight\"] #FIXME add immigration imputer to FeatureEngineer\n",
    "first_vec = [f\"first_vec{i}\" for i in range(2, 202)]\n",
    "last_vec = [f\"last_vec{i}\" for i in range(2,202)]\n",
    "cols_to_drop = [\"marstat\", \"birth_year\", \"household\", \"immigration\", \"race\", \"rel\", \"female\",\n",
    "                \"bp\", \"mbp\", \"fbp\", \"state\", \"county\", \"cohort1\", \n",
    "                \"cohort2\", \"last_sdxn\", \"first_sdxn\", \"last_init\",\n",
    "                \"first_init\", \"bp_comm\", \"first_comm\", \"last_comm\", \"bp_lat\", \"bp_lon\",\n",
    "                \"res_lat\", \"res_lon\", \"full_name\"]\n",
    "cols_to_drop.extend(first_vec)\n",
    "cols_to_drop.extend(last_vec)\n",
    "feature_params = [{\"cols\": [\"first_comm\", \"last_comm\"], \"years\": years}, \n",
    "                  {\"vars_to_match\": [\"marstat\", \"race\", \"rel\", \"mbp\", \"fbp\", \"first_sdxn\", \"last_sdxn\", \"bp\", \"county\"], \"years\": years},\n",
    "                  {\"variables\": [[\"immigration\"], [\"birth_year\"], [\"res_lat\", \"res_lon\"], [\"bp_lat\", \"bp_lon\"], [f\"first_vec{i}\" for i in range(2, 202)], [f\"last_vec{i}\" for i in range(2,202)]], \"new_cols\": [\"immigration_dist\", \"birth_year_dist\", \"geodist\", \"bp_geodist\", \"first_vec_dist\", \"last_vec_dist\"], \"years\": years},\n",
    "                  {\"string_col\": [\"first\", \"last\"], \"dist_metric\": \"jw\", \"years\": years},\n",
    "                  {\"string_col\": [\"first\", \"last\"], \"n\": 2, \"years\": years},\n",
    "                  {\"cols_to_drop\": [\"first\", \"last\"], \"both_years\": True, \"years\": years},\n",
    "                  {\"cols\": [\"first_jw\", \"last_jw\", \"first_sdxn_match\", \"last_sdxn_match\", \"bp_match\"], \"comm_cols\": [\"first\", \"last\", \"first\", \"last\", \"bp\"], \"years\": years}]\n",
    "\n",
    "for i, j in zip(features, feature_params):\n",
    "    feature_engineer.add_feature(i, j) #this adds features to your feature object. when you run feature_engineer.create_features(), it computes all of the features above.\n",
    "feature_engineer.build()"
   ]
  },
  {
   "cell_type": "code",
   "execution_count": null,
   "metadata": {},
   "outputs": [],
   "source": [
    "#Construct the feature engineer\n",
    "fe = FeatureEngineer()\n",
    "#FIXME add parent geo-coordinates\n",
    "exact_match_cols = [(\"marstat\",), (\"race\",), (\"rel\",), (\"mbp\",), (\"fbp\",), (\"county\",)]\n",
    "euclid_cols = [(\"immigration\",), (\"birth_year\",), tuple(f\"first_vec{i}\" for i in range(2, 202)), \n",
    "               tuple(f\"last_vec{i}\" for i in range(2, 202))]\n",
    "geodist_cols = [(\"res_lat\", \"res_lon\"), (\"bp_lat\", \"bp_lon\")]\n",
    "comm_weight_cols = [(\"bp\",), (\"first\",), (\"last\",), (\"first\",), (\"last\",), (\"first_sdxn\",), (\"last_sdxn\",)]\n",
    "comm_weight_comps = [(\"exact match\", \"commonality weight\"), (\"jw\", \"commonality weight\"), (\"jw\", \"commonality weight\"),\n",
    "                     (\"bigram\", \"commonality weight\"), (\"bigram\", \"commonality weight\"),\n",
    "                     (\"exact match\", \"commonality weight\"), (\"exact match\", \"commonality weight\")]\n",
    "comm_weight_extra_args = [({}, {\"comm_col\": \"bp_comm\"}), ({}, {\"comm_col\": \"first_comm\"}), ({}, {\"comm_col\": \"last_comm\"}),\n",
    "                          ]"
   ]
  },
  {
   "cell_type": "code",
   "execution_count": 8,
   "metadata": {},
   "outputs": [],
   "source": [
    "#Construct XGBoostMatch\n",
    "with open(\"R:/JoePriceResearch/record_linking/projects/deep_learning/ml-record-linking/model.xgboost\", \"rb\") as file:\n",
    "    model = pkl.load(file)\n",
    "xgb = XGBoostMatch(delaware_1910, delaware_1920, compares, feature_engineer, model)"
   ]
  },
  {
   "cell_type": "code",
   "execution_count": 9,
   "metadata": {},
   "outputs": [
    {
     "ename": "ValueError",
     "evalue": "DataFrame.dtypes for data must be int, float or bool.\n                Did not expect the data types in fields full_name_1, pr_name_gn_1, pr_name_surn_1, full_name_2, pr_name_gn_2, pr_name_surn_2",
     "output_type": "error",
     "traceback": [
      "\u001b[1;31m---------------------------------------------------------------------------\u001b[0m",
      "\u001b[1;31mValueError\u001b[0m                                Traceback (most recent call last)",
      "\u001b[1;32m<ipython-input-9-a3d6621d83f7>\u001b[0m in \u001b[0;36m<module>\u001b[1;34m\u001b[0m\n\u001b[1;32m----> 1\u001b[1;33m \u001b[0mxgb\u001b[0m\u001b[1;33m.\u001b[0m\u001b[0mrun\u001b[0m\u001b[1;33m(\u001b[0m\u001b[1;34m\"test.csv\"\u001b[0m\u001b[1;33m)\u001b[0m\u001b[1;33m\u001b[0m\u001b[1;33m\u001b[0m\u001b[0m\n\u001b[0m",
      "\u001b[1;32mR:/JoePriceResearch/record_linking/projects/deep_learning/ml-record-linking/Splycer\\xgboost_match.py\u001b[0m in \u001b[0;36mrun\u001b[1;34m(self, outfile)\u001b[0m\n\u001b[0;32m     73\u001b[0m         \u001b[0moutfile\u001b[0m \u001b[1;33m=\u001b[0m \u001b[0mopen\u001b[0m\u001b[1;33m(\u001b[0m\u001b[0moutfile\u001b[0m\u001b[1;33m,\u001b[0m \u001b[1;34m\"w\"\u001b[0m\u001b[1;33m)\u001b[0m\u001b[1;33m\u001b[0m\u001b[1;33m\u001b[0m\u001b[0m\n\u001b[0;32m     74\u001b[0m         \u001b[1;32mfor\u001b[0m \u001b[0mcandidate_pair\u001b[0m \u001b[1;32min\u001b[0m \u001b[0mself\u001b[0m\u001b[1;33m.\u001b[0m\u001b[0mcompareset\u001b[0m\u001b[1;33m.\u001b[0m\u001b[0mget_pairs\u001b[0m\u001b[1;33m(\u001b[0m\u001b[1;33m)\u001b[0m\u001b[1;33m:\u001b[0m\u001b[1;33m\u001b[0m\u001b[1;33m\u001b[0m\u001b[0m\n\u001b[1;32m---> 75\u001b[1;33m             \u001b[0mmatch_proba\u001b[0m \u001b[1;33m=\u001b[0m \u001b[0mself\u001b[0m\u001b[1;33m.\u001b[0m\u001b[0mlink_proba\u001b[0m\u001b[1;33m(\u001b[0m\u001b[0mcandidate_pair\u001b[0m\u001b[1;33m)\u001b[0m\u001b[1;33m\u001b[0m\u001b[1;33m\u001b[0m\u001b[0m\n\u001b[0m\u001b[0;32m     76\u001b[0m             \u001b[1;32mif\u001b[0m \u001b[0mself\u001b[0m\u001b[1;33m.\u001b[0m\u001b[0mabove_thresh\u001b[0m\u001b[1;33m(\u001b[0m\u001b[0mmatch_proba\u001b[0m\u001b[1;33m)\u001b[0m\u001b[1;33m:\u001b[0m\u001b[1;33m\u001b[0m\u001b[1;33m\u001b[0m\u001b[0m\n\u001b[0;32m     77\u001b[0m                 \u001b[0moutfile\u001b[0m\u001b[1;33m.\u001b[0m\u001b[0mwrite\u001b[0m\u001b[1;33m(\u001b[0m\u001b[1;34mf\"{candidate_pair[0]},{candidate_pair[1]},{match_proba}\"\u001b[0m\u001b[1;33m)\u001b[0m\u001b[1;33m\u001b[0m\u001b[1;33m\u001b[0m\u001b[0m\n",
      "\u001b[1;32mR:/JoePriceResearch/record_linking/projects/deep_learning/ml-record-linking/Splycer\\xgboost_match.py\u001b[0m in \u001b[0;36mlink_proba\u001b[1;34m(self, candidate_pair)\u001b[0m\n\u001b[0;32m     67\u001b[0m         \u001b[0mrec2\u001b[0m \u001b[1;33m=\u001b[0m \u001b[0mself\u001b[0m\u001b[1;33m.\u001b[0m\u001b[0mrecordset2\u001b[0m\u001b[1;33m.\u001b[0m\u001b[0mget_record\u001b[0m\u001b[1;33m(\u001b[0m\u001b[0mcandidate_pair\u001b[0m\u001b[1;33m[\u001b[0m\u001b[1;36m1\u001b[0m\u001b[1;33m]\u001b[0m\u001b[1;33m)\u001b[0m\u001b[1;33m\u001b[0m\u001b[1;33m\u001b[0m\u001b[0m\n\u001b[0;32m     68\u001b[0m         \u001b[0mcomp_vec\u001b[0m \u001b[1;33m=\u001b[0m \u001b[0mself\u001b[0m\u001b[1;33m.\u001b[0m\u001b[0mcomp_eng\u001b[0m\u001b[1;33m.\u001b[0m\u001b[0mcompare\u001b[0m\u001b[1;33m(\u001b[0m\u001b[0mrec1\u001b[0m\u001b[1;33m,\u001b[0m \u001b[0mrec2\u001b[0m\u001b[1;33m)\u001b[0m\u001b[1;33m\u001b[0m\u001b[1;33m\u001b[0m\u001b[0m\n\u001b[1;32m---> 69\u001b[1;33m         \u001b[1;32mreturn\u001b[0m \u001b[0mself\u001b[0m\u001b[1;33m.\u001b[0m\u001b[0mmodel\u001b[0m\u001b[1;33m.\u001b[0m\u001b[0mpredict_proba\u001b[0m\u001b[1;33m(\u001b[0m\u001b[0mcomp_vec\u001b[0m\u001b[1;33m)\u001b[0m\u001b[1;33m[\u001b[0m\u001b[1;36m0\u001b[0m\u001b[1;33m]\u001b[0m\u001b[1;33m[\u001b[0m\u001b[1;36m0\u001b[0m\u001b[1;33m]\u001b[0m \u001b[1;31m#FIXME check that this is the correct probability\u001b[0m\u001b[1;33m\u001b[0m\u001b[1;33m\u001b[0m\u001b[0m\n\u001b[0m\u001b[0;32m     70\u001b[0m \u001b[1;33m\u001b[0m\u001b[0m\n\u001b[0;32m     71\u001b[0m     \u001b[1;32mdef\u001b[0m \u001b[0mrun\u001b[0m\u001b[1;33m(\u001b[0m\u001b[0mself\u001b[0m\u001b[1;33m,\u001b[0m \u001b[0moutfile\u001b[0m\u001b[1;33m)\u001b[0m\u001b[1;33m:\u001b[0m\u001b[1;33m\u001b[0m\u001b[1;33m\u001b[0m\u001b[0m\n",
      "\u001b[1;32mR:\\JoePriceResearch\\Python\\AnacondaNew\\envs\\ml_rec_env\\lib\\site-packages\\xgboost\\sklearn.py\u001b[0m in \u001b[0;36mpredict_proba\u001b[1;34m(self, data, ntree_limit, validate_features)\u001b[0m\n\u001b[0;32m    795\u001b[0m             \u001b[0ma\u001b[0m \u001b[0mnumpy\u001b[0m \u001b[0marray\u001b[0m \u001b[1;32mwith\u001b[0m \u001b[0mthe\u001b[0m \u001b[0mprobability\u001b[0m \u001b[0mof\u001b[0m \u001b[0meach\u001b[0m \u001b[0mdata\u001b[0m \u001b[0mexample\u001b[0m \u001b[0mbeing\u001b[0m \u001b[0mof\u001b[0m \u001b[0ma\u001b[0m \u001b[0mgiven\u001b[0m \u001b[1;32mclass\u001b[0m\u001b[1;33m.\u001b[0m\u001b[1;33m\u001b[0m\u001b[1;33m\u001b[0m\u001b[0m\n\u001b[0;32m    796\u001b[0m         \"\"\"\n\u001b[1;32m--> 797\u001b[1;33m         \u001b[0mtest_dmatrix\u001b[0m \u001b[1;33m=\u001b[0m \u001b[0mDMatrix\u001b[0m\u001b[1;33m(\u001b[0m\u001b[0mdata\u001b[0m\u001b[1;33m,\u001b[0m \u001b[0mmissing\u001b[0m\u001b[1;33m=\u001b[0m\u001b[0mself\u001b[0m\u001b[1;33m.\u001b[0m\u001b[0mmissing\u001b[0m\u001b[1;33m,\u001b[0m \u001b[0mnthread\u001b[0m\u001b[1;33m=\u001b[0m\u001b[0mself\u001b[0m\u001b[1;33m.\u001b[0m\u001b[0mn_jobs\u001b[0m\u001b[1;33m)\u001b[0m\u001b[1;33m\u001b[0m\u001b[1;33m\u001b[0m\u001b[0m\n\u001b[0m\u001b[0;32m    798\u001b[0m         \u001b[1;32mif\u001b[0m \u001b[0mntree_limit\u001b[0m \u001b[1;32mis\u001b[0m \u001b[1;32mNone\u001b[0m\u001b[1;33m:\u001b[0m\u001b[1;33m\u001b[0m\u001b[1;33m\u001b[0m\u001b[0m\n\u001b[0;32m    799\u001b[0m             \u001b[0mntree_limit\u001b[0m \u001b[1;33m=\u001b[0m \u001b[0mgetattr\u001b[0m\u001b[1;33m(\u001b[0m\u001b[0mself\u001b[0m\u001b[1;33m,\u001b[0m \u001b[1;34m\"best_ntree_limit\"\u001b[0m\u001b[1;33m,\u001b[0m \u001b[1;36m0\u001b[0m\u001b[1;33m)\u001b[0m\u001b[1;33m\u001b[0m\u001b[1;33m\u001b[0m\u001b[0m\n",
      "\u001b[1;32mR:\\JoePriceResearch\\Python\\AnacondaNew\\envs\\ml_rec_env\\lib\\site-packages\\xgboost\\core.py\u001b[0m in \u001b[0;36m__init__\u001b[1;34m(self, data, label, missing, weight, silent, feature_names, feature_types, nthread)\u001b[0m\n\u001b[0;32m    361\u001b[0m         data, feature_names, feature_types = _maybe_pandas_data(data,\n\u001b[0;32m    362\u001b[0m                                                                 \u001b[0mfeature_names\u001b[0m\u001b[1;33m,\u001b[0m\u001b[1;33m\u001b[0m\u001b[1;33m\u001b[0m\u001b[0m\n\u001b[1;32m--> 363\u001b[1;33m                                                                 feature_types)\n\u001b[0m\u001b[0;32m    364\u001b[0m \u001b[1;33m\u001b[0m\u001b[0m\n\u001b[0;32m    365\u001b[0m         data, feature_names, feature_types = _maybe_dt_data(data,\n",
      "\u001b[1;32mR:\\JoePriceResearch\\Python\\AnacondaNew\\envs\\ml_rec_env\\lib\\site-packages\\xgboost\\core.py\u001b[0m in \u001b[0;36m_maybe_pandas_data\u001b[1;34m(data, feature_names, feature_types)\u001b[0m\n\u001b[0;32m    226\u001b[0m         msg = \"\"\"DataFrame.dtypes for data must be int, float or bool.\n\u001b[0;32m    227\u001b[0m                 Did not expect the data types in fields \"\"\"\n\u001b[1;32m--> 228\u001b[1;33m         \u001b[1;32mraise\u001b[0m \u001b[0mValueError\u001b[0m\u001b[1;33m(\u001b[0m\u001b[0mmsg\u001b[0m \u001b[1;33m+\u001b[0m \u001b[1;34m', '\u001b[0m\u001b[1;33m.\u001b[0m\u001b[0mjoin\u001b[0m\u001b[1;33m(\u001b[0m\u001b[0mbad_fields\u001b[0m\u001b[1;33m)\u001b[0m\u001b[1;33m)\u001b[0m\u001b[1;33m\u001b[0m\u001b[1;33m\u001b[0m\u001b[0m\n\u001b[0m\u001b[0;32m    229\u001b[0m \u001b[1;33m\u001b[0m\u001b[0m\n\u001b[0;32m    230\u001b[0m     \u001b[1;32mif\u001b[0m \u001b[0mfeature_names\u001b[0m \u001b[1;32mis\u001b[0m \u001b[1;32mNone\u001b[0m\u001b[1;33m:\u001b[0m\u001b[1;33m\u001b[0m\u001b[1;33m\u001b[0m\u001b[0m\n",
      "\u001b[1;31mValueError\u001b[0m: DataFrame.dtypes for data must be int, float or bool.\n                Did not expect the data types in fields full_name_1, pr_name_gn_1, pr_name_surn_1, full_name_2, pr_name_gn_2, pr_name_surn_2"
     ]
    }
   ],
   "source": [
    "xgb.run(\"test.csv\")"
   ]
  },
  {
   "cell_type": "code",
   "execution_count": 4,
   "metadata": {},
   "outputs": [],
   "source": [
    "delaware_1910.df.head()"
   ]
  },
  {
   "cell_type": "code",
   "execution_count": 6,
   "metadata": {},
   "outputs": [
    {
     "data": {
      "text/html": [
       "<div>\n",
       "<style scoped>\n",
       "    .dataframe tbody tr th:only-of-type {\n",
       "        vertical-align: middle;\n",
       "    }\n",
       "\n",
       "    .dataframe tbody tr th {\n",
       "        vertical-align: top;\n",
       "    }\n",
       "\n",
       "    .dataframe thead th {\n",
       "        text-align: right;\n",
       "    }\n",
       "</style>\n",
       "<table border=\"1\" class=\"dataframe\">\n",
       "  <thead>\n",
       "    <tr style=\"text-align: right;\">\n",
       "      <th></th>\n",
       "      <th>marstat</th>\n",
       "      <th>birth_year</th>\n",
       "      <th>household</th>\n",
       "      <th>immigration</th>\n",
       "      <th>race</th>\n",
       "      <th>rel</th>\n",
       "      <th>female</th>\n",
       "      <th>bp</th>\n",
       "      <th>mbp</th>\n",
       "      <th>fbp</th>\n",
       "      <th>...</th>\n",
       "      <th>last_vec192</th>\n",
       "      <th>last_vec193</th>\n",
       "      <th>last_vec194</th>\n",
       "      <th>last_vec195</th>\n",
       "      <th>last_vec196</th>\n",
       "      <th>last_vec197</th>\n",
       "      <th>last_vec198</th>\n",
       "      <th>last_vec199</th>\n",
       "      <th>last_vec200</th>\n",
       "      <th>last_vec201</th>\n",
       "    </tr>\n",
       "    <tr>\n",
       "      <th>index</th>\n",
       "      <th></th>\n",
       "      <th></th>\n",
       "      <th></th>\n",
       "      <th></th>\n",
       "      <th></th>\n",
       "      <th></th>\n",
       "      <th></th>\n",
       "      <th></th>\n",
       "      <th></th>\n",
       "      <th></th>\n",
       "      <th></th>\n",
       "      <th></th>\n",
       "      <th></th>\n",
       "      <th></th>\n",
       "      <th></th>\n",
       "      <th></th>\n",
       "      <th></th>\n",
       "      <th></th>\n",
       "      <th></th>\n",
       "      <th></th>\n",
       "      <th></th>\n",
       "    </tr>\n",
       "  </thead>\n",
       "  <tbody>\n",
       "    <tr>\n",
       "      <th>8361303</th>\n",
       "      <td>1.0</td>\n",
       "      <td>1874.0</td>\n",
       "      <td>1934610.0</td>\n",
       "      <td>NaN</td>\n",
       "      <td>0</td>\n",
       "      <td>1</td>\n",
       "      <td>1</td>\n",
       "      <td>65</td>\n",
       "      <td>46</td>\n",
       "      <td>36</td>\n",
       "      <td>...</td>\n",
       "      <td>NaN</td>\n",
       "      <td>NaN</td>\n",
       "      <td>NaN</td>\n",
       "      <td>NaN</td>\n",
       "      <td>NaN</td>\n",
       "      <td>NaN</td>\n",
       "      <td>NaN</td>\n",
       "      <td>NaN</td>\n",
       "      <td>NaN</td>\n",
       "      <td>NaN</td>\n",
       "    </tr>\n",
       "  </tbody>\n",
       "</table>\n",
       "<p>1 rows × 430 columns</p>\n",
       "</div>"
      ],
      "text/plain": [
       "         marstat  birth_year  household  immigration  race  rel  female  bp  \\\n",
       "index                                                                         \n",
       "8361303      1.0      1874.0  1934610.0          NaN     0    1       1  65   \n",
       "\n",
       "         mbp  fbp  ...  last_vec192  last_vec193  last_vec194  last_vec195  \\\n",
       "index              ...                                                       \n",
       "8361303   46   36  ...          NaN          NaN          NaN          NaN   \n",
       "\n",
       "         last_vec196  last_vec197  last_vec198  last_vec199  last_vec200  \\\n",
       "index                                                                      \n",
       "8361303          NaN          NaN          NaN          NaN          NaN   \n",
       "\n",
       "         last_vec201  \n",
       "index                 \n",
       "8361303          NaN  \n",
       "\n",
       "[1 rows x 430 columns]"
      ]
     },
     "execution_count": 6,
     "metadata": {},
     "output_type": "execute_result"
    }
   ],
   "source": [
    "delaware_1910.get_record(8361303)"
   ]
  },
  {
   "cell_type": "code",
   "execution_count": null,
   "metadata": {},
   "outputs": [],
   "source": []
  }
 ],
 "metadata": {
  "kernelspec": {
   "display_name": "Python 3",
   "language": "python",
   "name": "python3"
  },
  "language_info": {
   "codemirror_mode": {
    "name": "ipython",
    "version": 3
   },
   "file_extension": ".py",
   "mimetype": "text/x-python",
   "name": "python",
   "nbconvert_exporter": "python",
   "pygments_lexer": "ipython3",
   "version": "3.7.2"
  }
 },
 "nbformat": 4,
 "nbformat_minor": 2
}
