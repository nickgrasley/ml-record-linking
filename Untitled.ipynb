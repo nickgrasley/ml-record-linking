{
 "cells": [
  {
   "cell_type": "code",
   "execution_count": 4,
   "metadata": {},
   "outputs": [
    {
     "name": "stderr",
     "output_type": "stream",
     "text": [
      "/anaconda/lib/python3.6/site-packages/sklearn/ensemble/weight_boosting.py:29: DeprecationWarning: numpy.core.umath_tests is an internal NumPy module and should not be imported. It will be removed in a future NumPy release.\n",
      "  from numpy.core.umath_tests import inner1d\n"
     ]
    }
   ],
   "source": [
    "from sklearn.pipeline import Pipeline\n",
    "from preprocessing.preprocessing import DropVars, BooleanMatch, JW, FuzzyBoolean\n",
    "from sklearn.ensemble import RandomForestClassifier\n",
    "from xgboost import XGBClassifier\n",
    "from sklearn.linear_model import LogisticRegression\n",
    "from sklearn.model_selection import train_test_split, GridSearchCV\n",
    "import pandas as pd\n",
    "from time import time"
   ]
  },
  {
   "cell_type": "code",
   "execution_count": null,
   "metadata": {},
   "outputs": [],
   "source": [
    "def main(file_name):\n",
    "    pairs_df = pd.read_stata(file_name)\n",
    "    #pairs_df.rename({\"first_init\": \"first_init1920\", \"last_init\": \"last_init1920\"}, axis=\"columns\", inplace=True) #for small_training and training_20k\n",
    "    #y = pairs_df[\"ismatch1910\"]\n",
    "    #y.columns = [\"ismatch\"]\n",
    "    #pairs_df.drop([\"ismatch1910\"], axis=1, inplace=True)\n",
    "    y = pairs_df[\"ismatch\"]\n",
    "    pairs_df.drop([\"ismatch\"], axis=1, inplace=True)\n",
    "    \n",
    "    initial_drop = DropVars([\"household\", \"cohort1\", \"cohort2\", \"ark\", \"index\"], both_years=True)\n",
    "    boolean_match = BooleanMatch(vars_to_match=[\"race\", \"rel\", \"female\", \"bp\",\n",
    "                                                \"mbp\", \"fbp\", \"state\", \"county\",\n",
    "                                                \"last_sdxn\", \"first_sdxn\",\n",
    "                                                \"first_init\", \"last_init\", \"marstat\",\n",
    "                                                \"birth_year\", \"immigration\"])\n",
    "    fuzzy_match = FuzzyBoolean(vars_fuzzy=[\"birth_year\"])\n",
    "    jaro_wink = JW(jw_col_name=[\"first_jw\", \"last_jw\"], string1_col=[\"name_gn1910\", \"name_surn1910\"], string2_col=[\"name_gn1920\", \"name_surn1920\"])\n",
    "    drop_names = DropVars([\"name_gn\", \"name_surn\"], both_years=True)\n",
    "    final_drop = DropVars([\"race\", \"rel\", \"female\", \"bp\", \"mbp\", \"fbp\", \"state\",\n",
    "                           \"county\", \"last_sdxn\", \"first_sdxn\", \"first_init\",\n",
    "                           \"last_init\", \"marstat\", \"birth_year\", \"immigration\",\n",
    "                           \"midinit\"], both_years=True)\n",
    "    clf = XGBClassifier(n_jobs=4, random_stata=94)\n",
    "    #hyper_params = {\"n_estimators\": [100, 2500, 5000], \"max_depth\": [1, 3, 5, 10], \"class_weight\": [\"balanced\", None]} #rand forest\n",
    "    hyper_params = {\"max_depth\": [1, 3, 5, 10], \"learning_rate\": [0.1, 0.01, 0.001], \"n_estimators\": [100, 2500, 5000]} #xgboost\n",
    "    #hyper_params = {\"class_weight\": [\"balanced\", None]}\n",
    "    gs = GridSearchCV(clf, hyper_params, cv=5, n_jobs=4, scoring=\"f1_macro\")\n",
    "    pipe = Pipeline([(\"initial_drop\", initial_drop), (\"jw\", jaro_wink),\n",
    "                     (\"drop_names\", drop_names), (\"bool\", boolean_match),\n",
    "                     (\"fuzzy_match\", fuzzy_match), (\"final_drop\", final_drop)])\n",
    "    pipe.fit_transform(pairs_df)\n",
    "    X_train, X_test, Y_train, Y_test = train_test_split(pairs_df.values, y.values, test_size=0.33, random_state=94)\n",
    "    del pairs_df\n",
    "    model = gs.fit(X_train, Y_train)\n",
    "    return model, X_train, X_test, Y_train, Y_test\n",
    "\n",
    "#xgboost on random_training.dta took 22561 seconds\n",
    "start = time()\n",
    "#pairs_df = main(\"R:/JoePriceResearch/RA_work_folders/Nicholas_Grasley/random_training.dta\")\n",
    "model, X_train, X_test, Y_train, Y_test = main(\"R:/JoePriceResearch/RA_work_folders/Nicholas_Grasley/random_training.dta\")\n",
    "end = time()\n",
    "print(f\"time in seconds: {end - start}\")"
   ]
  }
 ],
 "metadata": {
  "kernelspec": {
   "display_name": "Python 3",
   "language": "python",
   "name": "python3"
  },
  "language_info": {
   "codemirror_mode": {
    "name": "ipython",
    "version": 3
   },
   "file_extension": ".py",
   "mimetype": "text/x-python",
   "name": "python",
   "nbconvert_exporter": "python",
   "pygments_lexer": "ipython3",
   "version": "3.6.4"
  }
 },
 "nbformat": 4,
 "nbformat_minor": 2
}
